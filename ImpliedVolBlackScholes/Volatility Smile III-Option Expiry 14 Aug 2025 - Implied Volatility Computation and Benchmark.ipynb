{
 "cells": [
  {
   "cell_type": "code",
   "execution_count": 1,
   "id": "a958d4b5-bb84-43f2-996d-a14e9a3e843f",
   "metadata": {},
   "outputs": [],
   "source": [
    "# For data \n",
    "import pandas as pd\n",
    "# For datetime manipulation.\n",
    "import datetime as dt\n",
    "from datetime import time\n",
    "import time\n",
    "# For Nan.\n",
    "import numpy as np\n",
    "import numpy,math\n",
    "# For numerical analysis\n",
    "from scipy.stats import norm\n",
    "from scipy.optimize import brentq"
   ]
  },
  {
   "cell_type": "code",
   "execution_count": 3,
   "id": "2d8f9744-32e8-4108-8836-8d14a2d67e19",
   "metadata": {},
   "outputs": [],
   "source": [
    "# Newton Raphson using black scholes -- Functions only\n",
    "def compute_d1(strike, spot, time_to_expiry, rate, vol):\n",
    "     return (math.log(spot / strike) + (rate + 0.5 * vol**2) * time_to_expiry) / (vol * math.sqrt(time_to_expiry))\n",
    "def black_scholes_call_price(strike, spot, time_to_expiry, rate, vol):  # Pricing call option using Black Scholes \n",
    "    d1 = compute_d1(strike, spot, time_to_expiry, rate, vol)\n",
    "    d2 = d1 - vol * math.sqrt(time_to_expiry)\n",
    "    return spot * norm.cdf(d1) - strike * math.exp(-rate * time_to_expiry) * norm.cdf(d2) # S N(d1) - Ke^{-rT}N(d2)  \n",
    "def vega(strike, spot, time_to_expiry, rate, vol):  #Derivative of Call Option price w.r.t. volatility.\n",
    "    d1 = compute_d1(strike, spot, time_to_expiry, rate, vol)\n",
    "    return spot * norm.pdf(d1) * math.sqrt(time_to_expiry)   \n",
    "def newton_raphson_black_scholes(seed, strike, spot, time_to_expiry, rate, call_value): \n",
    "    vol = float(seed)  \n",
    "    start = time.time()\n",
    "    for i in range(100):  \n",
    "        price = black_scholes_call_price(strike, spot, time_to_expiry, rate, vol)\n",
    "        diff = price - call_value\n",
    "        if abs(diff) < 1e-5:\n",
    "            end = time.time()\n",
    "            return [round(vol, 4) if vol > 0 else np.nan, end - start, i+1]\n",
    "        v = vega(strike, spot, time_to_expiry, rate, vol) \n",
    "        if abs(v) < 1e-8: # If vega drops a lot then the root shoots up  \n",
    "            end = time.time()\n",
    "            return [np.nan, end - start, i+1]\n",
    "        vol = vol - diff / v\n",
    "    end = time.time()\n",
    "    return [np.nan, end - start, 100]"
   ]
  },
  {
   "cell_type": "code",
   "execution_count": 4,
   "id": "fa79b642-467c-459d-8088-b1ebd8ae2701",
   "metadata": {},
   "outputs": [],
   "source": [
    "def implied_vol_brentq(call_value, strike, spot, time_to_expiry, rate):\n",
    "    def objective(vol):\n",
    "        return black_scholes_call_price(strike, spot, time_to_expiry, rate, vol) - call_value\n",
    "\n",
    "    start = time.time()\n",
    "    try:\n",
    "        iv, result = brentq(objective, 1e-4, 5.0, xtol=1e-5, full_output=True)\n",
    "        end = time.time()\n",
    "        return [iv, end - start, result.iterations]\n",
    "    except ValueError:\n",
    "        end = time.time()\n",
    "        return [np.nan, end - start, 0]  # failed to converge"
   ]
  },
  {
   "cell_type": "code",
   "execution_count": 5,
   "id": "eaca242c-00a0-4618-a0f3-34aa8fcc2316",
   "metadata": {},
   "outputs": [],
   "source": [
    "# 1 file analysis --> \n",
    "LOGFILE='Option Expiry 14-Aug-2025.csv'\n",
    "data=pd.read_csv(LOGFILE);\n",
    "data[\"timestamp\"]=pd.to_datetime(data[\"timestamp\"])\n",
    "data[\"expiry\"]=pd.to_datetime(data[\"expiry\"]);\n",
    "data=data[(data[\"type\"]==\"CALL\") & (data[\"ltp\"]>0)]"
   ]
  },
  {
   "cell_type": "code",
   "execution_count": 6,
   "id": "8762e54d-aa1b-4a9f-a0d1-54678f161f69",
   "metadata": {},
   "outputs": [],
   "source": [
    "data[\"strike\"]=(data[\"strike\"]).astype(float)\n",
    "# Without this getting a typeerror at the moment.\n",
    "rate=0.1\n",
    "data[\"Log_moneyness\"]= np.log(data[\"spot price\"]/data[\"strike\"]) + rate*data[\"time_to_maturity\"] \n",
    "# Code provided by CHATGPT.\n",
    "def classify_log_moneyness(df, log_moneyness_col='Log_moneyness', option_type_col='type'):\n",
    "    # Copy log moneyness so we don't modify original\n",
    "    lm = df[log_moneyness_col].copy()\n",
    "    \n",
    "    # Convert log moneyness back to ratio\n",
    "    ratio = np.exp(lm)\n",
    "\n",
    "    # Classification\n",
    "    conditions = [\n",
    "        ratio > 1.05,\n",
    "        (ratio > 1.01) & (ratio <= 1.05),\n",
    "        (ratio >= 0.99) & (ratio <= 1.01),\n",
    "        (ratio >= 0.95) & (ratio < 0.99),\n",
    "        ratio < 0.95\n",
    "    ]\n",
    "    class_choices = [\"Deep ITM\", \"Slightly ITM\", \"ATM\", \"Slightly OTM\", \"Deep OTM\"]\n",
    "\n",
    "    return np.select(conditions, class_choices, default=\"Unknown\")\n",
    "data['classification'] = classify_log_moneyness(data)"
   ]
  },
  {
   "cell_type": "code",
   "execution_count": 7,
   "id": "6e81ce67-84e1-4fe4-ac9c-201c9dedd8b6",
   "metadata": {},
   "outputs": [],
   "source": [
    "# Apply to DataFrame row-wise\n",
    "data[[\"Implied Volatility NR\",\"Time Taken NR\", \"Iterations NR\"]] = data.apply(lambda row: newton_raphson_black_scholes(1,row[\"strike\"],row[\"spot price\"],row[\"time_to_maturity\"],rate,row[\"ltp\"]), axis=1, result_type=\"expand\")\n",
    "data[[\"Implied Volatility BQ\",\"Time Taken BQ\", \"Iterations BQ\"]] = data.apply(lambda row: implied_vol_brentq(row[\"ltp\"],row[\"strike\"],row[\"spot price\"],row[\"time_to_maturity\"],rate), axis=1,result_type=\"expand\")\n",
    "data.to_csv(\"Saved Computations for Options Expiry 14-Aug-2025.csv\",index=False);"
   ]
  },
  {
   "cell_type": "code",
   "execution_count": 2,
   "id": "fdaf858e-d971-454b-b2b5-2f3778dfc380",
   "metadata": {},
   "outputs": [],
   "source": [
    "# Dataframe for Benchmark purposes Just Nan entries and Compute time: \n",
    "cols=['NAN ENTRIES', 'COMPUTE_TIME', 'MEAN ITERATIONS'];\n",
    "benchmark=pd.DataFrame(columns=cols);\n",
    "benchmark.index.name=\"Log Moneyness Classification Type\"  "
   ]
  },
  {
   "cell_type": "code",
   "execution_count": null,
   "id": "b29d5198-3778-47bf-83d5-a8d2797ca448",
   "metadata": {
    "scrolled": true
   },
   "outputs": [],
   "source": [
    "# I filter data with different conditions and save benchmarks accordingly. String will be used to denote the conditions imposed\n",
    "def save_benchmark(data1,string): \n",
    "    new_benchmark=pd.DataFrame(columns=benchmark.columns);\n",
    "    new_benchmark.loc[string+\" NR \",:]=[(data1[\"Implied Volatility NR\"].isna()).sum(),(data1[\"Time Taken NR\"]).sum(),(data1[\"Iterations NR\"]).mean()]\n",
    "    new_benchmark.loc[string+\" BQ \",:]=[(data1[\"Implied Volatility BQ\"].isna()).sum(),(data1[\"Time Taken BQ\"]).sum(),(data1[\"Iterations BQ\"]).mean()]\n",
    "    return new_benchmark\n",
    "benchmark = pd.concat([benchmark, save_benchmark(data, \"All classification\")])\n",
    "\n",
    "wanted_choices = [\"Slightly ITM\", \"ATM\", \"Slightly OTM\"]\n",
    "data=data[data[\"classification\"].isin(wanted_choices)]\n",
    "benchmark = pd.concat([benchmark, save_benchmark(data, \"Excluding Deep ITM/OTM\")])\n",
    "print(benchmark);\n",
    "string=\"Expiry Date 14-Aug-2025\";\n",
    "benchmark.to_csv(\"Benchmark for Time taken, NaN and comparison of IV \"+string+\".csv\");"
   ]
  },
  {
   "cell_type": "code",
   "execution_count": null,
   "id": "d657bc83-8b90-4193-b27e-92aac5e4b54b",
   "metadata": {},
   "outputs": [],
   "source": []
  }
 ],
 "metadata": {
  "kernelspec": {
   "display_name": "Python 3 (ipykernel)",
   "language": "python",
   "name": "python3"
  },
  "language_info": {
   "codemirror_mode": {
    "name": "ipython",
    "version": 3
   },
   "file_extension": ".py",
   "mimetype": "text/x-python",
   "name": "python",
   "nbconvert_exporter": "python",
   "pygments_lexer": "ipython3",
   "version": "3.13.7"
  }
 },
 "nbformat": 4,
 "nbformat_minor": 5
}
